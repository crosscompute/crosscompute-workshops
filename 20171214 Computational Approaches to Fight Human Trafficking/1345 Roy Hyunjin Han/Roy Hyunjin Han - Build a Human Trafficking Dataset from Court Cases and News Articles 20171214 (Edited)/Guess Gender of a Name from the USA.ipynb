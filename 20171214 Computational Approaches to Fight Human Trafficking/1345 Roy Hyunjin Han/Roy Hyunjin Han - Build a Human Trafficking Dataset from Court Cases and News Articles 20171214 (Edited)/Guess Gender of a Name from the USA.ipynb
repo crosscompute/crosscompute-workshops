{
 "cells": [
  {
   "cell_type": "markdown",
   "metadata": {},
   "source": [
    "# Guess the Gender of a Name from the USA\n",
    "\n",
    "We presented this [tool](https://crosscompute.com/t/e8NHIah49rP8tpdFiBUpxY7581OXoQFr) and [notebook](https://crosscompute.com/n/BhkK4AlpPD4Hmn8O0mbDtrH0q4HzphfN/-/guess-gender-of-a-name-from-the-usa) as part of our workshop on [Computational Approaches to Fight Human Trafficking](https://www.meetup.com/spatiotemporal-analysis-for-community-health-and-safety/events/244179401).\n",
    "\n",
    "[Thank you to the USA Social Security Administration for providing a clean and comprehensive dataset of baby names](https://catalog.data.gov/dataset/baby-names-from-social-security-card-applications-national-level-data). These baby names come from Social Security card applications dated 1879 to 2017."
   ]
  },
  {
   "cell_type": "code",
   "execution_count": null,
   "metadata": {},
   "outputs": [],
   "source": [
    "# CrossCompute\n",
    "name = 'Jerry Seinfeld'"
   ]
  },
  {
   "cell_type": "code",
   "execution_count": null,
   "metadata": {},
   "outputs": [],
   "source": [
    "import pandas as pd\n",
    "t = pd.read_csv('names-usa.csv.xz', compression='xz', index_col=0)\n",
    "t[:5]"
   ]
  },
  {
   "cell_type": "code",
   "execution_count": null,
   "metadata": {},
   "outputs": [],
   "source": [
    "try:\n",
    "    given_name = name.split()[0].lower()\n",
    "except IndexError:\n",
    "    print('name.error = required')\n",
    "given_name"
   ]
  },
  {
   "cell_type": "code",
   "execution_count": null,
   "metadata": {},
   "outputs": [],
   "source": [
    "try:\n",
    "    selected_t = t.loc[given_name]\n",
    "    gender = selected_t.idxmax()\n",
    "    probability = selected_t.max() / selected_t.sum()\n",
    "except KeyError:\n",
    "    gender = 'unknown'\n",
    "    probability = 1"
   ]
  },
  {
   "cell_type": "code",
   "execution_count": null,
   "metadata": {},
   "outputs": [],
   "source": [
    "print('gender = ' + gender)\n",
    "print('probability = %.02f' % probability)"
   ]
  }
 ],
 "metadata": {
  "kernelspec": {
   "display_name": "Python 3",
   "language": "python",
   "name": "python3"
  },
  "language_info": {
   "codemirror_mode": {
    "name": "ipython",
    "version": 3
   },
   "file_extension": ".py",
   "mimetype": "text/x-python",
   "name": "python",
   "nbconvert_exporter": "python",
   "pygments_lexer": "ipython3",
   "version": "3.6.4"
  }
 },
 "nbformat": 4,
 "nbformat_minor": 2
}
