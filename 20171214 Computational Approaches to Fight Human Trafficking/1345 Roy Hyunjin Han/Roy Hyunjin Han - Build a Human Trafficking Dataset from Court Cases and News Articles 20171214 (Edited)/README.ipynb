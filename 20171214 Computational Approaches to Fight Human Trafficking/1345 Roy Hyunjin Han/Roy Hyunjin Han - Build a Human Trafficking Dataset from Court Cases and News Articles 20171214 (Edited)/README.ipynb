{
 "cells": [
  {
   "cell_type": "markdown",
   "metadata": {},
   "source": [
    "# Build a Human Trafficking Dataset from Court Cases and News Articles\n",
    "\n",
    "The goal is to build a dataset that gathers information on human trafficking from court cases and news articles. This project started from a series of conversations with Professor Yuliya Zabyelina, Eric Schles and Aida Shoydokova.\n",
    "\n",
    "- 20171012 YZ suggests to RH that it would be useful to build a human trafficking dataset from court cases and news articles.\n",
    "- 20171103 AS talks with RH and begins working on information extraction from court cases.\n",
    "- 20171105 YZ, N, OC, AS, SA, RH meet to discuss ideas and coordinate work.\n",
    "- 20171214 YZ, ES, AS, RH present their work in a workshop on [Computational Approaches to Fight Human Trafficking Using Python](https://www.eventbrite.com/e/computational-approaches-to-fight-human-trafficking-using-python-hands-on-workshop-tickets-4337112420), hosted at [Civic Hall](https://civichall.org/events/computational-approaches-fight-human-trafficking-hands-workshop) by [CrossCompute](https://crosscompute.com/n/BhkK4AlpPD4Hmn8O0mbDtrH0q4HzphfN), [NYC PyLadies](https://www.meetup.com/NYC-PyLadies/events/244996524), [Spatiotemporal Analysis for Community Health and Safety](https://www.meetup.com/spatiotemporal-analysis-for-community-health-and-safety/events/244179401) and sponsored by the [Python Software Foundation](https://www.python.org/psf)."
   ]
  },
  {
   "cell_type": "markdown",
   "metadata": {},
   "source": [
    "## Dataset Exploration\n",
    "\n",
    "- Explore USA Department of Justice Court Case Press Releases\n",
    "\n",
    "## Text Preparation\n",
    "\n",
    "- Extract Text from a Webpage\n",
    "- Normalize Raw Text\n",
    "\n",
    "## Information Extraction\n",
    "\n",
    "- Guess the Gender of a Name from the USA\n",
    "\n",
    "## Dataset Extraction\n",
    "\n",
    "- Extract Human Trafficking Incidents from Court Cases using NLTK\n",
    "- Extract Human Trafficking Incidents from Court Cases using spaCy"
   ]
  },
  {
   "cell_type": "markdown",
   "metadata": {},
   "source": [
    "All of the exercises in this tutorial are also CrossCompute Tools. To learn how to format a Jupyter Notebook as a CrossCompute Tool, [please see this example](https://crosscompute.com/n/VUnC87fxksJsuBCksDNl2LHXw7ZMzAB4/-/templates/tool)."
   ]
  }
 ],
 "metadata": {
  "kernelspec": {
   "display_name": "Python 3",
   "language": "python",
   "name": "python3"
  },
  "language_info": {
   "codemirror_mode": {
    "name": "ipython",
    "version": 3
   },
   "file_extension": ".py",
   "mimetype": "text/x-python",
   "name": "python",
   "nbconvert_exporter": "python",
   "pygments_lexer": "ipython3",
   "version": "3.6.4"
  }
 },
 "nbformat": 4,
 "nbformat_minor": 2
}
