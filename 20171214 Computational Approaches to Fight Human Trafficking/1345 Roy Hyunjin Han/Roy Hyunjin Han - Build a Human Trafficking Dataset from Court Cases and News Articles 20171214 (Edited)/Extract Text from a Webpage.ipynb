{
 "cells": [
  {
   "cell_type": "markdown",
   "metadata": {},
   "source": [
    "# Extract Text from a Webpage\n",
    "\n",
    "We presented this [tool](https://crosscompute.com/t/ymxigXFmpg2YWlXCov1jaMTBIc1m5liU) and [notebook](https://crosscompute.com/n/BhkK4AlpPD4Hmn8O0mbDtrH0q4HzphfN/-/extract-text-from-a-webpage) as part of our workshop on [Computational Approaches to Fight Human Trafficking](https://www.meetup.com/spatiotemporal-analysis-for-community-health-and-safety/events/244179401).\n",
    "\n",
    "We use [requests](http://docs.python-requests.org) and [BeautifulSoup](https://www.crummy.com/software/BeautifulSoup) to perform the following steps:\n",
    "\n",
    "1. Get HTML\n",
    "2. Extract the title\n",
    "3. Extract the body while ignoring scripts and tags\n",
    "4. Replace multiple newlines with a single newline"
   ]
  },
  {
   "cell_type": "code",
   "execution_count": null,
   "metadata": {},
   "outputs": [],
   "source": [
    "# CrossCompute\n",
    "url = 'https://www.unodc.org'\n",
    "target_folder = '/tmp'"
   ]
  },
  {
   "cell_type": "code",
   "execution_count": null,
   "metadata": {},
   "outputs": [],
   "source": [
    "import requests\n",
    "\n",
    "response = requests.get(url)\n",
    "html = response.content\n",
    "html[:200]"
   ]
  },
  {
   "cell_type": "code",
   "execution_count": null,
   "metadata": {},
   "outputs": [],
   "source": [
    "from bs4 import BeautifulSoup\n",
    "\n",
    "soup = BeautifulSoup(html, 'lxml')\n",
    "title = soup.find('title')\n",
    "print('title = ' + title.text)"
   ]
  },
  {
   "cell_type": "code",
   "execution_count": null,
   "metadata": {},
   "outputs": [],
   "source": [
    "body = soup.find('body')\n",
    "# Remove script content\n",
    "for x in body.find_all('script'):\n",
    "    x.decompose()\n",
    "# Extract text without tags\n",
    "text = body.getText(separator=u'\\n').strip()\n",
    "print(text[:70])    "
   ]
  },
  {
   "cell_type": "code",
   "execution_count": null,
   "metadata": {},
   "outputs": [],
   "source": [
    "import re\n",
    "\n",
    "# Replace multiple newlines with a single newline\n",
    "pattern = re.compile(r'\\n+', re.MULTILINE)\n",
    "text = pattern.sub('\\n', text)\n",
    "print(text[:89])"
   ]
  },
  {
   "cell_type": "code",
   "execution_count": null,
   "metadata": {},
   "outputs": [],
   "source": [
    "target_path = target_folder + '/raw.txt'\n",
    "open(target_path, 'wt').write(text)\n",
    "print('body_text_path = ' + target_path)"
   ]
  }
 ],
 "metadata": {
  "kernelspec": {
   "display_name": "Python 3",
   "language": "python",
   "name": "python3"
  },
  "language_info": {
   "codemirror_mode": {
    "name": "ipython",
    "version": 3
   },
   "file_extension": ".py",
   "mimetype": "text/x-python",
   "name": "python",
   "nbconvert_exporter": "python",
   "pygments_lexer": "ipython3",
   "version": "3.6.4"
  }
 },
 "nbformat": 4,
 "nbformat_minor": 2
}
