{
 "cells": [
  {
   "cell_type": "markdown",
   "metadata": {},
   "source": [
    "# Normalize Raw Text\n",
    "\n",
    "We presented this [tool](https://crosscompute.com/t/iOyRylc0zlf0Q2DpijfSvYcNfomMD4MI) and [notebook](https://crosscompute.com/n/BhkK4AlpPD4Hmn8O0mbDtrH0q4HzphfN/-/normalize-raw-text) as part of our workshop on [Computational Approaches to Fight Human Trafficking](https://www.meetup.com/spatiotemporal-analysis-for-community-health-and-safety/events/244179401)."
   ]
  },
  {
   "cell_type": "code",
   "execution_count": null,
   "metadata": {},
   "outputs": [],
   "source": [
    "# CrossCompute\n",
    "source_text_path = 'Zbigniew Herbert - Mr Cogito Tells of the Temptation of Spinoza.txt'\n",
    "target_folder = '/tmp'"
   ]
  },
  {
   "cell_type": "code",
   "execution_count": null,
   "metadata": {},
   "outputs": [],
   "source": [
    "try:\n",
    "    import nltk\n",
    "except ImportError:\n",
    "    import pip\n",
    "    pip.main(['install', 'nltk'])\n",
    "    import nltk\n",
    "nltk.download('punkt')\n",
    "nltk.download('wordnet')    "
   ]
  },
  {
   "cell_type": "code",
   "execution_count": null,
   "metadata": {},
   "outputs": [],
   "source": [
    "from nltk import word_tokenize\n",
    "tokens = word_tokenize(open(source_text_path).read())\n",
    "tokens[:5]"
   ]
  },
  {
   "cell_type": "code",
   "execution_count": null,
   "metadata": {},
   "outputs": [],
   "source": [
    "from os.path import join"
   ]
  },
  {
   "cell_type": "code",
   "execution_count": null,
   "metadata": {},
   "outputs": [],
   "source": [
    "from nltk import PorterStemmer\n",
    "normalization_model = PorterStemmer()\n",
    "terms = [normalization_model.stem(x) for x in tokens]\n",
    "target_path = join(target_folder, 'tokens-stemmed-porter.txt')\n",
    "open(target_path, 'wt').write(' '.join(terms))\n",
    "print('porter_stemmed_text_path = %s' % target_path)"
   ]
  },
  {
   "cell_type": "code",
   "execution_count": null,
   "metadata": {},
   "outputs": [],
   "source": [
    "from nltk import SnowballStemmer\n",
    "normalization_model = SnowballStemmer('english')\n",
    "terms = [normalization_model.stem(x) for x in tokens]\n",
    "target_path = join(target_folder, 'tokens-stemmed-snowball.txt')\n",
    "open(target_path, 'wt').write(' '.join(terms))\n",
    "print('snowball_stemmed_text_path = %s' % target_path)"
   ]
  },
  {
   "cell_type": "code",
   "execution_count": null,
   "metadata": {},
   "outputs": [],
   "source": [
    "from nltk import WordNetLemmatizer\n",
    "normalization_model = WordNetLemmatizer()\n",
    "terms = [normalization_model.lemmatize(x) for x in tokens]\n",
    "target_path = join(target_folder, 'tokens-lemma-wordnet.txt')\n",
    "open(target_path, 'wt').write(' '.join(terms))\n",
    "print('wordnet_lemmatized_text_path = %s' % target_path)"
   ]
  }
 ],
 "metadata": {
  "kernelspec": {
   "display_name": "Python 3",
   "language": "python",
   "name": "python3"
  },
  "language_info": {
   "codemirror_mode": {
    "name": "ipython",
    "version": 3
   },
   "file_extension": ".py",
   "mimetype": "text/x-python",
   "name": "python",
   "nbconvert_exporter": "python",
   "pygments_lexer": "ipython3",
   "version": "3.6.4"
  }
 },
 "nbformat": 4,
 "nbformat_minor": 2
}
