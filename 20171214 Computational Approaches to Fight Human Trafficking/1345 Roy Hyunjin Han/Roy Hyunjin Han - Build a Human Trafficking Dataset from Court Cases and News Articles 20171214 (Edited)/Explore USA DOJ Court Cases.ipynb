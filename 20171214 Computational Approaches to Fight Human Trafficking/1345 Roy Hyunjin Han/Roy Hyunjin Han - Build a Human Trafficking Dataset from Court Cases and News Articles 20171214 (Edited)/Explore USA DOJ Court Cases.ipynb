{
 "cells": [
  {
   "cell_type": "markdown",
   "metadata": {},
   "source": [
    "# Explore USA Department of Justice Court Case Press Releases\n",
    "\n",
    "We presented this [tool](https://crosscompute.com/t/DqRzPuZiyiHXWqeuXq07nh6Y3F2ZjMcj) and [notebook](https://crosscompute.com/n/BhkK4AlpPD4Hmn8O0mbDtrH0q4HzphfN/-/explore-usa-doj-court-cases) as part of our workshop on [Computational Approaches to Fight Human Trafficking](https://www.meetup.com/spatiotemporal-analysis-for-community-health-and-safety/events/244179401). Thanks to Aida Shoydokova for writing much of the original code.\n",
    "\n",
    "{ a_date : Start Date ? Specify the date of the earliest desired press release }\n",
    "\n",
    "{ b_date : End Date ? Specify the date of the latest desired press release }\n",
    "\n",
    "Please be sure to select a Memory Level of at least MEDIUM."
   ]
  },
  {
   "cell_type": "code",
   "execution_count": null,
   "metadata": {},
   "outputs": [],
   "source": [
    "# CrossCompute\n",
    "a_date = '2000-01-01'\n",
    "b_date = '2020-01-01'\n",
    "target_folder = '/tmp'"
   ]
  },
  {
   "cell_type": "code",
   "execution_count": null,
   "metadata": {},
   "outputs": [],
   "source": [
    "from os import environ\n",
    "\n",
    "memory_level = int(environ.get('CROSSCOMPUTE_MEMORY_LEVEL'))\n",
    "if memory_level < 2:\n",
    "    print(\n",
    "        'memory_level.error = memory level should be set to MEDIUM '\n",
    "        'or higher in order to analyze the entire dataset')"
   ]
  },
  {
   "cell_type": "markdown",
   "metadata": {},
   "source": [
    "## Load Dataset"
   ]
  },
  {
   "cell_type": "code",
   "execution_count": null,
   "metadata": {},
   "outputs": [],
   "source": [
    "%matplotlib inline\n",
    "import pandas as pd\n",
    "\n",
    "if memory_level < 2:\n",
    "    url = (\n",
    "        'https://www.dropbox.com/s/nx1b6afuze8ibfg/'\n",
    "        'human-trafficking-usa-doj-20171111-1730-'\n",
    "        'sample-30.csv.xz?dl=1')\n",
    "else:    \n",
    "    url = (\n",
    "        'https://www.dropbox.com/s/zr1tem2w4w1ocjz/'\n",
    "        'human-trafficking-usa-doj-20171111-1730.csv.xz?dl=1')\n",
    "    \n",
    "raw_t = pd.read_csv(url, compression='xz')\n",
    "document_count = len(raw_t)\n",
    "print('raw_document_count = %s' % document_count)"
   ]
  },
  {
   "cell_type": "code",
   "execution_count": null,
   "metadata": {},
   "outputs": [],
   "source": [
    "import pip\n",
    "pip.main(['install', 'arrow'])\n",
    "import arrow"
   ]
  },
  {
   "cell_type": "code",
   "execution_count": null,
   "metadata": {},
   "outputs": [],
   "source": [
    "a_time = arrow.get(a_date).timestamp\n",
    "b_time = arrow.get(b_date).timestamp"
   ]
  },
  {
   "cell_type": "markdown",
   "metadata": {},
   "source": [
    "## Examine a Row"
   ]
  },
  {
   "cell_type": "code",
   "execution_count": null,
   "metadata": {},
   "outputs": [],
   "source": [
    "# Examine a court case press release\n",
    "raw_t.iloc[0]"
   ]
  },
  {
   "cell_type": "code",
   "execution_count": null,
   "metadata": {},
   "outputs": [],
   "source": [
    "# Get the body of the first court case\n",
    "# Examine the first 500 characters\n",
    "print(raw_t.iloc[0]['body'][:500])"
   ]
  },
  {
   "cell_type": "markdown",
   "metadata": {},
   "source": [
    "## Get Timeframe"
   ]
  },
  {
   "cell_type": "code",
   "execution_count": null,
   "metadata": {},
   "outputs": [],
   "source": [
    "# Get the first publication time of the court case press release\n",
    "raw_t.published_time[0]"
   ]
  },
  {
   "cell_type": "code",
   "execution_count": null,
   "metadata": {},
   "outputs": [],
   "source": [
    "from datetime import datetime\n",
    "\n",
    "# Convert epoch time into a date\n",
    "datetime.fromtimestamp(raw_t.published_time[0]).date()"
   ]
  },
  {
   "cell_type": "code",
   "execution_count": null,
   "metadata": {},
   "outputs": [],
   "source": [
    "# Define a function to convert epoch time into a date\n",
    "def get_date(x):\n",
    "    return datetime.fromtimestamp(x).date()\n",
    "\n",
    "get_date(raw_t.published_time[0])"
   ]
  },
  {
   "cell_type": "code",
   "execution_count": null,
   "metadata": {},
   "outputs": [],
   "source": [
    "# Get earliest date\n",
    "get_date(raw_t.published_time.min())"
   ]
  },
  {
   "cell_type": "code",
   "execution_count": null,
   "metadata": {},
   "outputs": [],
   "source": [
    "# Get latest date\n",
    "get_date(raw_t.published_time.max())"
   ]
  },
  {
   "cell_type": "markdown",
   "metadata": {},
   "source": [
    "## Filter Rows by Time"
   ]
  },
  {
   "cell_type": "code",
   "execution_count": null,
   "metadata": {},
   "outputs": [],
   "source": [
    "t = raw_t[(\n",
    "    raw_t.published_time >= a_time\n",
    ") & (\n",
    "    raw_t.published_time <= b_time)].copy()\n",
    "print('filtered_document_count = %s' % len(t))"
   ]
  },
  {
   "cell_type": "markdown",
   "metadata": {},
   "source": [
    "## Identify Missing Data"
   ]
  },
  {
   "cell_type": "code",
   "execution_count": null,
   "metadata": {},
   "outputs": [],
   "source": [
    "# Get number of documents without topics\n",
    "len(t[pd.isnull(t['topic_names'])])"
   ]
  },
  {
   "cell_type": "code",
   "execution_count": null,
   "metadata": {},
   "outputs": [],
   "source": [
    "# Get number of documents with topics\n",
    "labelled_document_count = len(t[~pd.isnull(t['topic_names'])])\n",
    "labelled_document_count"
   ]
  },
  {
   "cell_type": "code",
   "execution_count": null,
   "metadata": {},
   "outputs": [],
   "source": [
    "# Get number of documents with topics using dropna\n",
    "len(t['topic_names'].dropna())"
   ]
  },
  {
   "cell_type": "code",
   "execution_count": null,
   "metadata": {},
   "outputs": [],
   "source": [
    "# Compute percentage of documents that have topics\n",
    "labelled_document_fraction = labelled_document_count / document_count\n",
    "labelled_document_fraction"
   ]
  },
  {
   "cell_type": "code",
   "execution_count": null,
   "metadata": {},
   "outputs": [],
   "source": [
    "'{:,} documents'.format(document_count)"
   ]
  },
  {
   "cell_type": "code",
   "execution_count": null,
   "metadata": {},
   "outputs": [],
   "source": [
    "'{:.0f}% labelled'.format(100 * labelled_document_fraction)"
   ]
  },
  {
   "cell_type": "code",
   "execution_count": null,
   "metadata": {},
   "outputs": [],
   "source": [
    "# Count the number of documents with a body\n",
    "len(t['body'].dropna())"
   ]
  },
  {
   "cell_type": "code",
   "execution_count": null,
   "metadata": {},
   "outputs": [],
   "source": [
    "# Count the number of documents with a body\n",
    "len(t.body.dropna())"
   ]
  },
  {
   "cell_type": "code",
   "execution_count": null,
   "metadata": {},
   "outputs": [],
   "source": [
    "# Count the number of documents with a body\n",
    "t.body.count()"
   ]
  },
  {
   "cell_type": "code",
   "execution_count": null,
   "metadata": {},
   "outputs": [],
   "source": [
    "# Count the number of documents without a body\n",
    "t.body.isnull().sum()"
   ]
  },
  {
   "cell_type": "code",
   "execution_count": null,
   "metadata": {},
   "outputs": [],
   "source": [
    "# Count the number of records without a title\n",
    "t.title.isnull().sum()"
   ]
  },
  {
   "cell_type": "code",
   "execution_count": null,
   "metadata": {},
   "outputs": [],
   "source": [
    "# Count the number of cases without a published time\n",
    "t.published_time.isnull().sum()"
   ]
  },
  {
   "cell_type": "code",
   "execution_count": null,
   "metadata": {},
   "outputs": [],
   "source": [
    "# Count the number of documents without topic_names\n",
    "t.topic_names.isnull().sum()"
   ]
  },
  {
   "cell_type": "code",
   "execution_count": null,
   "metadata": {},
   "outputs": [],
   "source": [
    "print('has_body_percent = {:.0f}%'.format(\n",
    "    100 * t.body.count() / document_count))\n",
    "print('has_title_percent = {:.0f}%'.format(\n",
    "    100 * t.title.count() / document_count))\n",
    "print('has_published_time_percent = {:.0f}%'.format(\n",
    "    100 * t.published_time.count() / document_count))\n",
    "print('has_topic_percent = {:.0f}%'.format(\n",
    "    100 * t.topic_names.count() / document_count))"
   ]
  },
  {
   "cell_type": "markdown",
   "metadata": {},
   "source": [
    "## Study Distributions"
   ]
  },
  {
   "cell_type": "code",
   "execution_count": null,
   "metadata": {},
   "outputs": [],
   "source": [
    "import numpy as np\n",
    "\n",
    "def count_topics(topic_names):\n",
    "    try:\n",
    "        if np.isnan(topic_names):\n",
    "            return 0\n",
    "    except TypeError:\n",
    "        return len(topic_names.split(';'))\n",
    "        \n",
    "# Create a column called topic_count\n",
    "t['topic_count'] = t['topic_names'].map(count_topics)"
   ]
  },
  {
   "cell_type": "code",
   "execution_count": null,
   "metadata": {},
   "outputs": [],
   "source": [
    "# Count the number of documents where topic_count is zero\n",
    "(t.topic_count == 0).sum()"
   ]
  },
  {
   "cell_type": "code",
   "execution_count": null,
   "metadata": {},
   "outputs": [],
   "source": [
    "# Get the distribution of the number of topics per document\n",
    "t['topic_count'].value_counts(sort=True)"
   ]
  },
  {
   "cell_type": "code",
   "execution_count": null,
   "metadata": {},
   "outputs": [],
   "source": [
    "# Examine a row where the topic count is more than 1\n",
    "t[t.topic_count > 1].iloc[0]"
   ]
  },
  {
   "cell_type": "code",
   "execution_count": null,
   "metadata": {},
   "outputs": [],
   "source": [
    "from collections import defaultdict\n",
    "\n",
    "# Tally count by topic\n",
    "d = defaultdict(int)\n",
    "for x in t['topic_names'].dropna():\n",
    "    for topic_name in x.split(';'): \n",
    "        d[topic_name.strip()] += 1\n",
    "count_by_topic = pd.Series(d).sort_values(ascending=False)\n",
    "count_by_topic"
   ]
  },
  {
   "cell_type": "code",
   "execution_count": null,
   "metadata": {},
   "outputs": [],
   "source": [
    "target_path = target_folder + '/count-by-topic.csv'\n",
    "count_by_topic.to_csv(target_path)\n",
    "print('count_by_topic_table_path = %s' % target_path)"
   ]
  },
  {
   "cell_type": "code",
   "execution_count": null,
   "metadata": {},
   "outputs": [],
   "source": [
    "import matplotlib.pyplot as plt\n",
    "\n",
    "# Plot the distribution of topics by frequency\n",
    "count_by_topic.plot(kind='bar')\n",
    "\n",
    "target_path = target_folder + '/count-by-topic.png'\n",
    "plt.savefig(target_path)\n",
    "print('count_by_topic_image_path = %s' % target_path)"
   ]
  },
  {
   "cell_type": "code",
   "execution_count": null,
   "metadata": {},
   "outputs": [],
   "source": [
    "# Count number of documents with a published_time\n",
    "t.published_time.count()"
   ]
  },
  {
   "cell_type": "code",
   "execution_count": null,
   "metadata": {},
   "outputs": [],
   "source": [
    "# Count number of documents with a published_time\n",
    "len(t.dropna(subset=['published_time']))"
   ]
  },
  {
   "cell_type": "code",
   "execution_count": null,
   "metadata": {},
   "outputs": [],
   "source": [
    "# Get table of documents with a published_time\n",
    "v = t.dropna(subset=['published_time']).copy()\n",
    "v['published_datetime'] = pd.to_datetime(\n",
    "    v['published_time'].map(get_date))\n",
    "v.set_index('published_datetime', inplace=True)\n",
    "\n",
    "# Plot the frequency of empty topics by year\n",
    "empty_topic_table = v[v.topic_count == 0]\n",
    "empty_topic_table_by_year = empty_topic_table.resample('A')[\n",
    "    'uuid'].count()\n",
    "empty_topic_table_by_year.plot()\n",
    "\n",
    "target_path = target_folder + '/empty-topic-count-by-year-line.png'\n",
    "plt.savefig(target_path)\n",
    "print('empty_topic_count_by_year_line_image_path = %s' % target_path)"
   ]
  },
  {
   "cell_type": "code",
   "execution_count": null,
   "metadata": {},
   "outputs": [],
   "source": [
    "empty_topic_table_by_year.plot(kind='bar')\n",
    "\n",
    "target_path = target_folder + '/empty-topic-count-by-year-bar.png'\n",
    "plt.savefig(target_path)\n",
    "print('empty_topic_count_by_year_bar_image_path = %s' % target_path)"
   ]
  }
 ],
 "metadata": {
  "kernelspec": {
   "display_name": "Python 3",
   "language": "python",
   "name": "python3"
  },
  "language_info": {
   "codemirror_mode": {
    "name": "ipython",
    "version": 3
   },
   "file_extension": ".py",
   "mimetype": "text/x-python",
   "name": "python",
   "nbconvert_exporter": "python",
   "pygments_lexer": "ipython3",
   "version": "3.6.4"
  }
 },
 "nbformat": 4,
 "nbformat_minor": 2
}
