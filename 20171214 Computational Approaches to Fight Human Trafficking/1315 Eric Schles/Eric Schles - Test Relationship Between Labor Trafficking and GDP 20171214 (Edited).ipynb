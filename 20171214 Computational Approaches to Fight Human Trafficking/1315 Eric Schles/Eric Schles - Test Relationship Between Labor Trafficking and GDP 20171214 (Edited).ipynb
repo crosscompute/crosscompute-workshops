{
 "cells": [
  {
   "cell_type": "markdown",
   "metadata": {},
   "source": [
    "# Test Relationship Between Labor Trafficking and GDP\n",
    "\n",
    "This exploratory [tool](https://crosscompute.com/t/luB9Es0jjIIJ4fE4qmXIipPpV8fjfJHX) and [notebook](https://crosscompute.com/n/j6NXUPd55tP3gCumE6S1fBtHB0B9StrS) are based on a presentation by Eric Schles at our workshop on [Computational Approaches to Fight Human Trafficking](https://www.meetup.com/spatiotemporal-analysis-for-community-health-and-safety/events/244179401/).\n",
    "\n",
    "{ labor_table : Labor Trafficking by Product and Country ? Child Labor is child slavery and Forced Labor is adult slavery }\n",
    "\n",
    "{ gdp_table : Gross Domestic Product by Country ? USD in millions }\n",
    "\n",
    "{ selected_year : Selected Year of Analysis }"
   ]
  },
  {
   "cell_type": "code",
   "execution_count": null,
   "metadata": {},
   "outputs": [],
   "source": [
    "# CrossCompute\n",
    "labor_table_path = 'labor.csv'\n",
    "gdp_table_path = 'gdp.csv'\n",
    "selected_year = '2017'\n",
    "target_folder = '/tmp'"
   ]
  },
  {
   "cell_type": "code",
   "execution_count": null,
   "metadata": {},
   "outputs": [],
   "source": [
    "# Install python packages (this takes a few seconds)\n",
    "import pip\n",
    "pip.main('install statsmodels'.split())"
   ]
  },
  {
   "cell_type": "code",
   "execution_count": null,
   "metadata": {},
   "outputs": [],
   "source": [
    "import numpy as np\n",
    "import pandas as pd\n",
    "from statsmodels import api as sm"
   ]
  },
  {
   "cell_type": "code",
   "execution_count": null,
   "metadata": {},
   "outputs": [],
   "source": [
    "from IPython.display import Image\n",
    "from matplotlib import pyplot as plt"
   ]
  },
  {
   "cell_type": "code",
   "execution_count": null,
   "metadata": {},
   "outputs": [],
   "source": [
    "labor_table = pd.read_csv(labor_table_path)\n",
    "labor_table.head()"
   ]
  },
  {
   "cell_type": "code",
   "execution_count": null,
   "metadata": {},
   "outputs": [],
   "source": [
    "labor_countries = labor_table['country'].unique()\n",
    "len(labor_countries)"
   ]
  },
  {
   "cell_type": "code",
   "execution_count": null,
   "metadata": {},
   "outputs": [],
   "source": [
    "gdp_table = pd.read_csv(gdp_table_path)\n",
    "gdp_table.head()"
   ]
  },
  {
   "cell_type": "markdown",
   "metadata": {},
   "source": [
    "# Understanding Our Data\n",
    "\n",
    "**Child Labor** refers to child slavery.\n",
    "\n",
    "**Forced Labor** refers to adult slavery."
   ]
  },
  {
   "cell_type": "markdown",
   "metadata": {},
   "source": [
    "## Child Labor"
   ]
  },
  {
   "cell_type": "code",
   "execution_count": null,
   "metadata": {},
   "outputs": [],
   "source": [
    "child_labor_table = pd.DataFrame()\n",
    "for country in labor_countries:\n",
    "    table = labor_table[labor_table['country'] == country]\n",
    "    child_labor_product_type_count = len(table[table['child labor'] == 'X'])\n",
    "    child_labor_table = child_labor_table.append({\n",
    "        'country': country,\n",
    "        'child labor product type count': child_labor_product_type_count,\n",
    "    }, ignore_index=True)\n",
    "child_labor_table.head()"
   ]
  },
  {
   "cell_type": "code",
   "execution_count": null,
   "metadata": {},
   "outputs": [],
   "source": [
    "t = child_labor_table\n",
    "labels = [\n",
    "    'child labor',\n",
    "    'no child labor']\n",
    "country_count_with_child_labor = len(t[t[\n",
    "    'child labor product type count'] > 0])\n",
    "country_count_without_child_labor = len(t[t[\n",
    "    'child labor product type count'] == 0])\n",
    "sizes = [\n",
    "    country_count_with_child_labor,\n",
    "    country_count_without_child_labor]\n",
    "figure = plt.figure(figsize=(20, 10))\n",
    "ax = figure.add_subplot(111)\n",
    "ax.pie(\n",
    "    sizes,\n",
    "    labels=labels,\n",
    "    autopct='%1.1f%%',\n",
    "    startangle=90)\n",
    "ax.axis('equal');  # Draw pie as a circle"
   ]
  },
  {
   "cell_type": "code",
   "execution_count": null,
   "metadata": {},
   "outputs": [],
   "source": [
    "target_path = target_folder + '/percent-of-countries-with-child-labor.png'\n",
    "plt.savefig(target_path)\n",
    "print('child_labor_percent_image_path = %s' % target_path)"
   ]
  },
  {
   "cell_type": "markdown",
   "metadata": {},
   "source": [
    "So, as we can see, 98.7% of all countries surveyed have some form of child labor."
   ]
  },
  {
   "cell_type": "code",
   "execution_count": null,
   "metadata": {},
   "outputs": [],
   "source": [
    "t = child_labor_table\n",
    "labels = [\n",
    "    'more than one product type',\n",
    "    'one or fewer product types']\n",
    "country_count_with_child_labor_in_more_than_one_product = len(t[t[\n",
    "    'child labor product type count'] > 1])\n",
    "country_count_with_child_labor_in_one_or_fewer_products = len(t[t[\n",
    "    'child labor product type count'] <= 1])\n",
    "sizes = [\n",
    "    country_count_with_child_labor_in_more_than_one_product,\n",
    "    country_count_with_child_labor_in_one_or_fewer_products]\n",
    "figure = plt.figure(figsize=(20, 10))\n",
    "ax = figure.add_subplot(111)\n",
    "ax.pie(\n",
    "    sizes,\n",
    "    labels=labels,\n",
    "    autopct='%1.1f%%',\n",
    "    startangle=90)\n",
    "ax.axis('equal')  # Draw pie as a circle\n",
    "\n",
    "plt.show()"
   ]
  },
  {
   "cell_type": "markdown",
   "metadata": {},
   "source": [
    "And 71.1% have more than one product type where child labor is used."
   ]
  },
  {
   "cell_type": "code",
   "execution_count": null,
   "metadata": {},
   "outputs": [],
   "source": [
    "target_path = target_folder + '/percent-of-countries-with-child-labor-in-more-than-one-product.png'\n",
    "plt.savefig(target_path)\n",
    "print('child_labor_product_percent_image_path = %s' % target_path)"
   ]
  },
  {
   "cell_type": "markdown",
   "metadata": {},
   "source": [
    "## Forced Labor"
   ]
  },
  {
   "cell_type": "code",
   "execution_count": null,
   "metadata": {},
   "outputs": [],
   "source": [
    "forced_labor_table = pd.DataFrame()\n",
    "for country in labor_countries:\n",
    "    table = labor_table[labor_table['country'] == country]\n",
    "    forced_labor_product_type_count = len(table[table['forced labor'] == 'X'])\n",
    "    forced_labor_table = forced_labor_table.append({\n",
    "        'country': country,\n",
    "        'forced labor product type count': forced_labor_product_type_count,\n",
    "    }, ignore_index=True)\n",
    "forced_labor_table.head()"
   ]
  },
  {
   "cell_type": "code",
   "execution_count": null,
   "metadata": {},
   "outputs": [],
   "source": [
    "t = forced_labor_table\n",
    "labels = [\n",
    "    'forced labor',\n",
    "    'no forced labor']\n",
    "country_count_with_forced_labor = len(t[t[\n",
    "    'forced labor product type count'] > 0])\n",
    "country_count_without_forced_labor = len(t[t[\n",
    "    'forced labor product type count'] == 0])\n",
    "sizes = [\n",
    "    country_count_with_forced_labor,\n",
    "    country_count_without_forced_labor]\n",
    "figure = plt.figure(figsize=(20, 10))\n",
    "ax = figure.add_subplot(111)\n",
    "ax.pie(\n",
    "    sizes,\n",
    "    labels=labels,\n",
    "    autopct='%1.1f%%',\n",
    "    startangle=90)\n",
    "ax.axis('equal')  # Draw pie as a circle\n",
    "\n",
    "plt.show()"
   ]
  },
  {
   "cell_type": "markdown",
   "metadata": {},
   "source": [
    "So, as we can see, 48.7% of all countries surveyed have some form of forced labor."
   ]
  },
  {
   "cell_type": "code",
   "execution_count": null,
   "metadata": {},
   "outputs": [],
   "source": [
    "target_path = target_folder + '/percent-of-countries-with-forced-labor.png'\n",
    "plt.savefig(target_path)\n",
    "print('forced_labor_percent_image_path = %s' % target_path)"
   ]
  },
  {
   "cell_type": "code",
   "execution_count": null,
   "metadata": {},
   "outputs": [],
   "source": [
    "t = forced_labor_table\n",
    "labels = [\n",
    "    'more than one product type',\n",
    "    'one or fewer product types']\n",
    "country_count_with_forced_labor_in_more_than_one_product = len(t[t[\n",
    "    'forced labor product type count'] > 1])\n",
    "country_count_with_forced_labor_in_one_or_fewer_products = len(t[t[\n",
    "    'forced labor product type count'] <= 1])\n",
    "sizes = [\n",
    "    country_count_with_forced_labor_in_more_than_one_product,\n",
    "    country_count_with_forced_labor_in_one_or_fewer_products]\n",
    "figure = plt.figure(figsize=(20, 10))\n",
    "ax = figure.add_subplot(111)\n",
    "ax.pie(\n",
    "    sizes,\n",
    "    labels=labels,\n",
    "    autopct='%1.1f%%',\n",
    "    startangle=90)\n",
    "ax.axis('equal')  # Draw pie as a circle\n",
    "\n",
    "plt.show()"
   ]
  },
  {
   "cell_type": "markdown",
   "metadata": {},
   "source": [
    "And 22.4% have more than one product type where forced labor is used."
   ]
  },
  {
   "cell_type": "code",
   "execution_count": null,
   "metadata": {},
   "outputs": [],
   "source": [
    "target_path = target_folder + '/percent-of-countries-with-forced-labor-in-more-than-one-product.png'\n",
    "plt.savefig(target_path)\n",
    "print('forced_labor_product_percent_image_path = %s' % target_path)"
   ]
  },
  {
   "cell_type": "markdown",
   "metadata": {},
   "source": [
    "## Slave Labor by Industry"
   ]
  },
  {
   "cell_type": "code",
   "execution_count": null,
   "metadata": {},
   "outputs": [],
   "source": [
    "products_by_industry = {\n",
    "    'gems': [\n",
    "        'Diamonds', 'Emeralds', 'Gems', 'Jade', 'Rubies', 'Sapphires',\n",
    "        'Tanzanite (gems)'],\n",
    "    'minerals': [\n",
    "        'Zinc, ''Wolframite (tungsten ore)', 'Trona (mineral)', 'Silver',\n",
    "        'Iron', 'Heterogenite (cobalt ore)', 'Gypsum (mineral)',\n",
    "        'Granite (crushed)', 'Granite', 'Gold', 'Coltan (tantalum ore)',\n",
    "        'Copper', 'Cassiterite (tin ore)', 'Fluorspar (mineral)', 'Tin',\n",
    "        'Zinc', 'Wolframite (tungsten ore)', 'Gravel (crushed stones)'],\n",
    "    'food': [\n",
    "        'Alcoholic Beverages', 'Baked Goods', 'Bananas', 'Beans (green beans)',\n",
    "        'Beans (green, soy, yellow)', 'Beef', 'Blueberries',\n",
    "        'Brazil Nuts/Chestnuts', 'Broccoli', 'Cashews', 'Chile Peppers',\n",
    "        'Citrus Fruits', 'Cloves', 'Coca (stimulant plant)', 'Cocoa',\n",
    "        'Coconuts', 'Coffee', 'Corn', 'Cucumbers', 'Cumin', 'Dried Fish',\n",
    "        'Eggplants', 'Fish', 'Garlic', 'Grapes', 'Goats', 'Hazelnuts', 'Hogs',\n",
    "        'Lobsters', 'Meat', 'Melons', 'Miraa (stimulant plant)', 'Olives',\n",
    "        'Onions', 'Peanuts', 'Pepper', 'Physic Nuts/Castor Beans', 'Potatoes',\n",
    "        'Poultry', 'Pulses (legumes)', 'Rice', 'Salt', 'Sesame', 'Shellfish',\n",
    "        'Shrimp', 'Strawberries', 'Sugar Beets', 'Sugarcane', 'Tea',\n",
    "        'Tomatoes', 'Vanilla', 'Wheat', 'Yerba Mate (stimulant plant)',\n",
    "        'Nile Perch (fish)', 'Pineapples', 'Tilapia (fish)', 'Cattle',\n",
    "        'Oil (Palm)', 'Oil (palm)', 'Sisal', 'Manioc/Cassava'],\n",
    "    'decorations': [\n",
    "        'Artificial Flowers', 'Flowers', 'Flowers (poppies)', 'Sunflowers'],\n",
    "    'construction': [\n",
    "        'Bricks', 'Bricks (clay)', 'Cement', 'Ceramics', 'Glass', 'Nails',\n",
    "        'Palm Thatch', 'Sand', 'Stones', 'Stones (limestone)', 'Timber',\n",
    "        'Rubber', 'Bamboo'],\n",
    "    'cigarettes': [\n",
    "        'Bidis (hand-rolled cigarettes)', 'Tobacco'],\n",
    "    'home durables': [\n",
    "        'Brassware', 'Ceramics', 'Furniture', 'Furniture (steel)', 'Glass',\n",
    "        'Glass Bangles', 'Locks', 'Matches', 'Soap', 'Stones (pumice)',\n",
    "        'Teak'],\n",
    "    'fabric': [\n",
    "        'Carpets', 'Cotton', 'Embellished Textiles', 'Footwear',\n",
    "        'Footwear (sandals)', 'Garments', 'Garments ', 'Leather',\n",
    "        'Leather Goods/Accessories', 'Silk Cocoons', 'Silk Fabric',\n",
    "        'Silk Thread', 'Textiles', 'Textiles (hand-woven)', 'Textiles (jute)',\n",
    "        'Thread/Yarn', 'Cottonseed (hybrid)', 'Fashion Accessories'],\n",
    "    'celebratory': [\n",
    "        'Christmas Decorations', 'Fireworks', 'Incense (agarbatti)', 'Matches',\n",
    "        'Pyrotechnics', 'Soccer Balls', 'Toys'],\n",
    "    'energy': ['Charcoal', 'Coal'],\n",
    "    'medical': ['Surgical Instruments'],\n",
    "    'sexploitation': ['Pornography'],\n",
    "    'technology': ['Electronics'],\n",
    "}\n",
    "\n",
    "def categorize_industry(x):\n",
    "    for industry, products in products_by_industry.items():\n",
    "        product = x['product'].strip()\n",
    "        if product in products:\n",
    "            x['industry'] = industry\n",
    "    return x\n",
    "\n",
    "labor_table = labor_table.apply(categorize_industry, axis=1)"
   ]
  },
  {
   "cell_type": "code",
   "execution_count": null,
   "metadata": {
    "scrolled": true
   },
   "outputs": [],
   "source": [
    "# Check if we have missed anything\n",
    "for index in range(len(labor_table)):\n",
    "    if pd.isnull(labor_table.iloc[index]['industry']):\n",
    "        print(labor_table.iloc[index]['product'])"
   ]
  },
  {
   "cell_type": "code",
   "execution_count": null,
   "metadata": {},
   "outputs": [],
   "source": [
    "slave_industry_counts = labor_table['industry'].value_counts()\n",
    "slave_industry_counts"
   ]
  },
  {
   "cell_type": "code",
   "execution_count": null,
   "metadata": {},
   "outputs": [],
   "source": [
    "labels = slave_industry_counts.keys()\n",
    "xs = range(len(labels))\n",
    "ys = slave_industry_counts.values\n",
    "figure = plt.figure(figsize=(20, 10))\n",
    "ax = figure.add_subplot(111)\n",
    "ax.bar(xs, ys, align='center')\n",
    "plt.xticks(xs, labels);"
   ]
  },
  {
   "cell_type": "code",
   "execution_count": null,
   "metadata": {},
   "outputs": [],
   "source": [
    "target_path = target_folder + '/slave-labor-by-industry.png'\n",
    "plt.savefig(target_path)\n",
    "print('slave_labor_by_industry_image_path = %s' % target_path)"
   ]
  },
  {
   "cell_type": "markdown",
   "metadata": {},
   "source": [
    "# Testing for a Relationship Between Labor Trafficking and GDP"
   ]
  },
  {
   "cell_type": "code",
   "execution_count": null,
   "metadata": {},
   "outputs": [],
   "source": [
    "rows = []\n",
    "for country in labor_countries:\n",
    "    slave_product_type_count = len(labor_table[labor_table['country'] == country])\n",
    "    try:\n",
    "        gdp = gdp_table[gdp_table['country'] == country][selected_year].iloc[0]\n",
    "    except IndexError:\n",
    "        print('could not find GDP for %s' % country)\n",
    "        continue\n",
    "    rows.append((country, slave_product_type_count, gdp))\n",
    "rows[:5]"
   ]
  },
  {
   "cell_type": "code",
   "execution_count": null,
   "metadata": {},
   "outputs": [],
   "source": [
    "slave_gdp_table = pd.DataFrame(rows, columns=[\n",
    "    'country', 'slave product type count', 'gdp'])\n",
    "slave_gdp_table.head()"
   ]
  },
  {
   "cell_type": "code",
   "execution_count": null,
   "metadata": {},
   "outputs": [],
   "source": [
    "target_path = target_folder + '/slave-product-type-count-and-gdp-by-country.csv'\n",
    "slave_gdp_table.to_csv(target_path, index=False)\n",
    "print('slave_gdp_table_path = %s' % target_path)"
   ]
  },
  {
   "cell_type": "markdown",
   "metadata": {},
   "source": [
    "## Spearman Rank Correlation"
   ]
  },
  {
   "cell_type": "code",
   "execution_count": null,
   "metadata": {},
   "outputs": [],
   "source": [
    "from scipy import stats\n",
    "t = slave_gdp_table\n",
    "x = stats.spearmanr(t['gdp'], t['slave product type count'])\n",
    "x"
   ]
  },
  {
   "cell_type": "code",
   "execution_count": null,
   "metadata": {},
   "outputs": [],
   "source": [
    "target_path = target_folder + '/gdp-vs-slave-product-type-count-spearman-rank-correlation.txt'\n",
    "open(target_path, 'wt').write(str(x))\n",
    "print('spearman_rank_correlation_text_path = %s' % target_path)"
   ]
  },
  {
   "cell_type": "markdown",
   "metadata": {},
   "source": [
    "## Ordinary Least Squares Regression"
   ]
  },
  {
   "cell_type": "code",
   "execution_count": null,
   "metadata": {},
   "outputs": [],
   "source": [
    "model = sm.OLS(slave_gdp_table['gdp'], slave_gdp_table['slave product type count'])\n",
    "result = model.fit()\n",
    "x = result.summary()\n",
    "x"
   ]
  },
  {
   "cell_type": "code",
   "execution_count": null,
   "metadata": {},
   "outputs": [],
   "source": [
    "target_path = target_folder + '/gdp-vs-slave-product-type-count-ols-regression.txt'\n",
    "open(target_path, 'wt').write(str(x))\n",
    "print('ols_regression_text_path = %s' % target_path)"
   ]
  },
  {
   "cell_type": "markdown",
   "metadata": {},
   "source": [
    "## Decision Tree Regression"
   ]
  },
  {
   "cell_type": "code",
   "execution_count": null,
   "metadata": {},
   "outputs": [],
   "source": [
    "from sklearn.model_selection import train_test_split\n",
    "\n",
    "x_train, x_test, y_train, y_test = train_test_split(\n",
    "    slave_gdp_table['slave product type count'], \n",
    "    slave_gdp_table['gdp'], \n",
    "    test_size=0.3,\n",
    "    random_state=42)\n",
    "x_test[:5]"
   ]
  },
  {
   "cell_type": "code",
   "execution_count": null,
   "metadata": {},
   "outputs": [],
   "source": [
    "x_train = x_train.values.reshape(-1, 1)\n",
    "x_test = x_test.values.reshape(-1, 1)\n",
    "x_test[:5]"
   ]
  },
  {
   "cell_type": "code",
   "execution_count": null,
   "metadata": {},
   "outputs": [],
   "source": [
    "from math import sqrt\n",
    "from sklearn.metrics import mean_squared_error\n",
    "from sklearn.tree import DecisionTreeRegressor\n",
    "\n",
    "model = DecisionTreeRegressor()\n",
    "model.fit(x_train, y_train)\n",
    "predictions = model.predict(x_test)\n",
    "print('decision_tree_root_mean_squared_error = %s' % sqrt(mean_squared_error(\n",
    "    y_test.values, predictions)))"
   ]
  },
  {
   "cell_type": "markdown",
   "metadata": {},
   "source": [
    "## Gradient Boosting Regression"
   ]
  },
  {
   "cell_type": "code",
   "execution_count": null,
   "metadata": {},
   "outputs": [],
   "source": [
    "from sklearn.ensemble import GradientBoostingRegressor\n",
    "\n",
    "model = GradientBoostingRegressor(\n",
    "    learning_rate=0.1,\n",
    "    max_depth=None,\n",
    "    max_leaf_nodes=17,\n",
    "    min_samples_split=5,\n",
    "    n_estimators=1000,\n",
    "    random_state=2,\n",
    "    subsample=1)\n",
    "model.fit(x_train, y_train)\n",
    "predictions = model.predict(x_test)\n",
    "print('gradient_boosting_root_mean_squared_error = %s' % sqrt(mean_squared_error(\n",
    "    y_test.values, predictions)))"
   ]
  },
  {
   "cell_type": "markdown",
   "metadata": {},
   "source": [
    "## Support Vector Machine Regression"
   ]
  },
  {
   "cell_type": "code",
   "execution_count": null,
   "metadata": {},
   "outputs": [],
   "source": [
    "from sklearn.svm import SVR\n",
    "\n",
    "model = SVR()\n",
    "model.fit(x_train, y_train)\n",
    "predictions = model.predict(x_test)\n",
    "print('support_vector_machine_root_mean_squared_error = %s' % sqrt(mean_squared_error(\n",
    "    y_test.values, predictions)))"
   ]
  },
  {
   "cell_type": "markdown",
   "metadata": {},
   "source": [
    "# Testing for a Relationship Between Labor Trafficking and GDP\n",
    "\n",
    "These results are highly dependent on the datasets and thus should be interpreted with care.\n",
    "\n",
    "## Charts\n",
    "\n",
    "{ child_labor_percent_image : Percent of Countries with Child Labor ? Child Slavery }\n",
    "\n",
    "{ child_labor_product_percent_image : Percent of Countries with Child Labor in More Than One Product }\n",
    "\n",
    "{ forced_labor_percent_image : Percent of Countries with Forced Labor ? Adult Slavery }\n",
    "\n",
    "{ forced_labor_product_percent_image : Percent of Countries with Forced Labor in More Than One Product }\n",
    "\n",
    "{ slave_labor_by_industry_image : Relative Frequency of Slave Labor by Industry ? Industries with More Product Types in More Countries Will Appear Higher }\n",
    "\n",
    "## Models\n",
    "\n",
    "If people who are free to work produce better quality products than people who are forced to work, then it is reasonable to assume that countries with more slave labor products will have lower GDP. It might even be possible to estimate a country's GDP solely based on the number of product types made by slave labor.\n",
    "\n",
    "{ slave_gdp_table : Slave Labor and GDP }\n",
    "\n",
    "{ spearman_rank_correlation_text : Spearman Rank Correlation Test }\n",
    "\n",
    "{ ols_regression_text : OLS Regression Test }\n",
    "\n",
    "{ decision_tree_root_mean_squared_error : Decision Tree Root Mean Squared Error ? Lower is Better }\n",
    "\n",
    "{ gradient_boosting_root_mean_squared_error : Gradient Boosting Root Mean Squared Error ? Lower is Better }\n",
    "\n",
    "{ support_vector_machine_root_mean_squared_error : Support Vector Machine Root Mean Squared Error ? Lower is Better }"
   ]
  }
 ],
 "metadata": {
  "kernelspec": {
   "display_name": "Python 3",
   "language": "python",
   "name": "python3"
  },
  "language_info": {
   "codemirror_mode": {
    "name": "ipython",
    "version": 3
   },
   "file_extension": ".py",
   "mimetype": "text/x-python",
   "name": "python",
   "nbconvert_exporter": "python",
   "pygments_lexer": "ipython3",
   "version": "3.6.4"
  }
 },
 "nbformat": 4,
 "nbformat_minor": 2
}
